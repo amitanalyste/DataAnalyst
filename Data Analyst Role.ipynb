{
 "cells": [
  {
   "cell_type": "markdown",
   "metadata": {},
   "source": [
    "### Responsibilities of data analyst\n",
    "* Provide support to all data analysis\n",
    "* Performing business associated issues for client and performing audit on data. \n",
    "* Analyze result and interpret data using statistical techniques and provide ongoing report.\n",
    "* Prioritize business needs and work closely with management and information needs.\n",
    "* Identify new process or areas for improvement opportunities.\n",
    "* Analyze, identify and interpret trends or patterns in complex data sets.\n",
    "* Acquire data from primary or secondary data sources and maintain databases/data systems.\n",
    "* Filter and “clean” data, and review computer reports.\n",
    "* Determine performance indicators to locate and correct code problems\n",
    "* Securing database by developing access system by determining user level of access\n",
    "\n"
   ]
  },
  {
   "cell_type": "markdown",
   "metadata": {},
   "source": [
    "### Various steps in analytics project\n",
    "* Problem definition\n",
    "* Data exploration\n",
    "* Data preparation\n",
    "* Modelling\n",
    "* Validation of data\n",
    "* Implementation and tracking"
   ]
  },
  {
   "cell_type": "markdown",
   "metadata": {},
   "source": [
    "### What is data cleansing?\n",
    "Data cleaning also referred as data cleansing, deals with identifying and removing errors and inconsistencies from data in order to enhance the quality of data."
   ]
  },
  {
   "cell_type": "markdown",
   "metadata": {},
   "source": [
    "### List out some of the best practices for data cleaning?\n",
    "* Sort data by different attributes\n",
    "* For large datasets cleanse it stepwise and improve the data with each step until you achieve a good data quality\n",
    "* For large datasets, break them into small data. Working with less data will increase your iteration speed\n",
    "* To handle common cleansing task create a set of utility functions/tools/scripts. It might include, remapping values based on a CSV file or SQL database or, regex search-and-replace, blanking out all values that don’t match a regex\n",
    "* If you have an issue with data cleanliness, arrange them by estimated frequency and attack the most common problems\n",
    "* Analyze the summary statistics for each column ( standard deviation, mean, number of missing values,)\n",
    "* Keep track of every date cleaning operation, so you can alter changes or remove operations if required"
   ]
  },
  {
   "cell_type": "markdown",
   "metadata": {},
   "source": [
    "### Mention what is the difference between data mining and data profiling?\n",
    "The difference between data mining and data profiling is that\n",
    "\n",
    "<b>Data profiling:</b> It targets on the instance analysis of individual attributes. It gives information on various attributes like value range, discrete value and their frequency, occurrence of null values, data type, length, etc.\n",
    "\n",
    "<b>Data mining:</b> It focuses on cluster analysis, detection of unusual records, dependencies, sequence discovery, relation holding between several attributes, etc."
   ]
  },
  {
   "cell_type": "markdown",
   "metadata": {},
   "source": [
    "### List out some common problems faced by data analyst?\n",
    "* Common misspelling\n",
    "* Duplicate entries\n",
    "* Missing values\n",
    "* Illegal values\n",
    "* Varying value representations\n",
    "* Identifying overlapping data"
   ]
  },
  {
   "cell_type": "markdown",
   "metadata": {},
   "source": [
    "### Mention what are the missing patterns that are generally observed?\n",
    "* Missing completely at random\n",
    "* Missing at random\n",
    "* Missing that depends on the missing value itself\n",
    "* Missing that depends on unobserved input variable"
   ]
  },
  {
   "cell_type": "markdown",
   "metadata": {},
   "source": [
    "### Explain what is KNN imputation method?\n",
    "In KNN imputation, the missing attribute values are imputed by using the attributes value that are most similar to the attribute whose values are missing. By using a distance function, the similarity of two attributes is determined.\n",
    "\n",
    "### Explain what is logistic regression?\n",
    "Logistic regression is a statistical method for examining a dataset in which there are one or more independent variables that defines an outcome."
   ]
  },
  {
   "cell_type": "markdown",
   "metadata": {},
   "source": [
    "### Mention what are the data validation methods used by data analyst?\n",
    "* Data screening\n",
    "* Data verification"
   ]
  },
  {
   "cell_type": "markdown",
   "metadata": {},
   "source": [
    "### Explain what should be done with suspected or missing data?\n",
    "* Prepare a validation report that gives information of all suspected data. It should give information like validation criteria that it failed and the date and time of occurrence\n",
    "* Experience personnel should examine the suspicious data to determine their acceptability\n",
    "* Invalid data should be assigned and replaced with a validation code\n",
    "* To work on missing data use the best analysis strategy like deletion method, single imputation methods, model based methods, etc."
   ]
  },
  {
   "cell_type": "markdown",
   "metadata": {},
   "source": [
    "### Mention how to deal the multi-source problems?\n",
    "* Restructuring of schemas to accomplish a schema integration\n",
    "* Identify similar records and merge them into single record containing all relevant attributes without redundancy"
   ]
  },
  {
   "cell_type": "markdown",
   "metadata": {},
   "source": [
    "### Explain what is an Outlier?\n",
    "The outlier is a commonly used terms by analysts referred for a value that appears far away and diverges from an overall pattern in a sample. There are two types of Outliers\n",
    "* Univariate\n",
    "* Multivariate"
   ]
  },
  {
   "cell_type": "markdown",
   "metadata": {},
   "source": [
    "### Explain what is Hierarchical Clustering Algorithm?\n",
    "Hierarchical clustering algorithm combines and divides existing groups, creating a hierarchical structure that showcase the order in which groups are divided or merged."
   ]
  },
  {
   "cell_type": "markdown",
   "metadata": {},
   "source": [
    "### Explain what is K-mean Algorithm?\n",
    "K mean is a famous partitioning method.  Objects are classified as belonging to one of K groups, k chosen a priori.\n",
    "\n",
    "In K-mean algorithm,\n",
    "* The clusters are spherical: the data points in a cluster are centered around that cluster\n",
    "* The variance/spread of the clusters is similar: Each data point belongs to the closest cluster"
   ]
  },
  {
   "cell_type": "markdown",
   "metadata": {},
   "source": [
    "### Explain what is collaborative filtering?\n",
    "Collaborative filtering is a simple algorithm to create a recommendation system based on user behavioral data. The most important components of collaborative filtering are users- items- interest.\n",
    "\n",
    "A good example of collaborative filtering is when you see a statement like “recommended for you” on online shopping sites that’s pops out based on your browsing history."
   ]
  },
  {
   "cell_type": "markdown",
   "metadata": {},
   "source": [
    "### Explain what is KPI, design of experiments and 80/20 rule?\n",
    "\n",
    "<b>KPI: </b>It stands for Key Performance Indicator, it is a metric that consists of any combination of spreadsheets, reports or charts about business process\n",
    "\n",
    "<b>Design of experiments: </b>It is the initial process used to split your data, sample and set up of a data for statistical analysis\n",
    "\n",
    "<b>80/20 rules: </b>It means that 80 percent of your income comes from 20 percent of your clients"
   ]
  },
  {
   "cell_type": "markdown",
   "metadata": {},
   "source": [
    "### Explain what is Clustering? What are the properties for clustering algorithms?\n",
    "Clustering is a classification method that is applied to data. Clustering algorithm divides a data set into natural groups or clusters.\n",
    "\n",
    "Properties for clustering algorithm are\n",
    "\n",
    "* Hierarchical or flat\n",
    "* Iterative\n",
    "* Hard and soft\n",
    "* Disjunctive"
   ]
  },
  {
   "cell_type": "markdown",
   "metadata": {},
   "source": [
    "###  What are some of the statistical methods that are useful for data-analyst?\n",
    "\n",
    "Statistical methods that are useful for data scientist are\n",
    "\n",
    "* Bayesian method\n",
    "* Markov process\n",
    "* Spatial and cluster processes\n",
    "* Rank statistics, percentile, outliers detection\n",
    "* Imputation techniques, etc.\n",
    "* Simplex algorithm\n",
    "* Mathematical optimization"
   ]
  },
  {
   "cell_type": "markdown",
   "metadata": {},
   "source": [
    "###  What is time series analysis?\n",
    "\n",
    "Time series analysis can be done in two domains, frequency domain and the time domain.  In Time series analysis the output of a particular process can be forecast by analyzing the previous data by the help of various methods like exponential smoothening, log-linear regression method, etc."
   ]
  },
  {
   "cell_type": "markdown",
   "metadata": {},
   "source": [
    "### Explain what is correlogram analysis?\n",
    "\n",
    "A correlogram analysis is the common form of spatial analysis in geography. It consists of a series of estimated autocorrelation coefficients calculated for a different spatial relationship.  It can be used to construct a correlogram for distance-based data, when the raw data is expressed as distance rather than values at individual points."
   ]
  },
  {
   "cell_type": "markdown",
   "metadata": {},
   "source": [
    "### What is a hash table?\n",
    "\n",
    "In computing, a hash table is a map of keys to values. It is a data structure used to implement an associative array. It uses a hash function to compute an index into an array of slots, from which desired value can be fetched."
   ]
  },
  {
   "cell_type": "markdown",
   "metadata": {},
   "source": [
    "### What are hash table collisions? How is it avoided?\n",
    "\n",
    "A hash table collision happens when two different keys hash to the same value.  Two data cannot be stored in the same slot in array.\n",
    "\n",
    "To avoid hash table collision there are many techniques, here we list out two\n",
    "\n",
    "* Separate Chaining:\n",
    "<br>\n",
    "It uses the data structure to store multiple items that hash to the same slot.\n",
    "\n",
    "* Open addressing:\n",
    "<br>\n",
    "It searches for other slots using a second function and store item in first empty slot that is found"
   ]
  },
  {
   "cell_type": "markdown",
   "metadata": {},
   "source": [
    "### Explain what is imputation? List out different types of imputation techniques?\n",
    "\n",
    "During imputation we replace missing data with substituted values.  The types of imputation techniques involve are\n",
    "\n",
    "* Single Imputation\n",
    "* Hot-deck imputation: A missing value is imputed from a randomly selected similar record by the help of punch card\n",
    "* Cold deck imputation: It works same as hot deck imputation, but it is more advanced and selects donors from another datasets\n",
    "* Mean imputation: It involves replacing missing value with the mean of that variable for all other cases\n",
    "* Regression imputation: It involves replacing missing value with the predicted values of a variable based on other variables\n",
    "* Stochastic regression: It is same as regression imputation, but it adds the average regression variance to regression imputation\n",
    "* Multiple Imputation\n",
    "Unlike single imputation, multiple imputation estimates the values multiple times"
   ]
  },
  {
   "cell_type": "markdown",
   "metadata": {},
   "source": [
    "### Which imputation method is more favorable?\n",
    "\n",
    "Although single imputation is widely used, it does not reflect the uncertainty created by missing data at random.  So, multiple imputation is more favorable then single imputation in case of data missing at random."
   ]
  },
  {
   "cell_type": "markdown",
   "metadata": {},
   "source": [
    "### Explain what is n-gram?\n",
    "\n",
    "<b>N-gram:</b>\n",
    "\n",
    "An n-gram is a contiguous sequence of n items from a given sequence of text or speech. It is a type of probabilistic language model for predicting the next item in such a sequence in the form of a (n-1)."
   ]
  },
  {
   "cell_type": "markdown",
   "metadata": {},
   "source": [
    "### Explain what is the criteria for a good data model?\n",
    "\n",
    "Criteria for a good data model includes\n",
    "\n",
    "* It can be easily consumed\n",
    "* Large data changes in a good model should be scalable\n",
    "* It should provide predictable performance\n",
    "* A good model can adapt to changes in requirements"
   ]
  },
  {
   "cell_type": "code",
   "execution_count": null,
   "metadata": {
    "collapsed": true
   },
   "outputs": [],
   "source": []
  }
 ],
 "metadata": {
  "anaconda-cloud": {},
  "kernelspec": {
   "display_name": "Python [default]",
   "language": "python",
   "name": "python3"
  },
  "language_info": {
   "codemirror_mode": {
    "name": "ipython",
    "version": 3
   },
   "file_extension": ".py",
   "mimetype": "text/x-python",
   "name": "python",
   "nbconvert_exporter": "python",
   "pygments_lexer": "ipython3",
   "version": "3.5.4"
  }
 },
 "nbformat": 4,
 "nbformat_minor": 2
}
